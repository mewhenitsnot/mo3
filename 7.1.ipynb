{
 "cells": [
  {
   "cell_type": "code",
   "execution_count": null,
   "id": "f44b7898-ecb9-45b8-b23e-77896bbef55e",
   "metadata": {},
   "outputs": [],
   "source": [
    "birth_year = 1990 \n",
    "years_list = [birth_year + i for i in range(6)]\n",
    "print(years_list)\n"
   ]
  }
 ],
 "metadata": {
  "kernelspec": {
   "display_name": "Python 3 (ipykernel)",
   "language": "python",
   "name": "python3"
  },
  "language_info": {
   "codemirror_mode": {
    "name": "ipython",
    "version": 3
   },
   "file_extension": ".py",
   "mimetype": "text/x-python",
   "name": "python",
   "nbconvert_exporter": "python",
   "pygments_lexer": "ipython3",
   "version": "3.12.4"
  }
 },
 "nbformat": 4,
 "nbformat_minor": 5
}
