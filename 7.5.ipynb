{
 "cells": [
  {
   "cell_type": "code",
   "execution_count": null,
   "id": "6a53c8a5-728a-44a9-b6ed-eabab72d69b8",
   "metadata": {},
   "outputs": [],
   "source": [
    "things[1] = things[1].capitalize()  \n",
    "print(things)\n"
   ]
  }
 ],
 "metadata": {
  "kernelspec": {
   "display_name": "Python 3 (ipykernel)",
   "language": "python",
   "name": "python3"
  },
  "language_info": {
   "codemirror_mode": {
    "name": "ipython",
    "version": 3
   },
   "file_extension": ".py",
   "mimetype": "text/x-python",
   "name": "python",
   "nbconvert_exporter": "python",
   "pygments_lexer": "ipython3",
   "version": "3.12.4"
  }
 },
 "nbformat": 4,
 "nbformat_minor": 5
}
