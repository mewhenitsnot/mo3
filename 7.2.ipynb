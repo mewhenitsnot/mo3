{
 "cells": [
  {
   "cell_type": "code",
   "execution_count": null,
   "id": "e38f9214-02ab-40d4-a14a-8127bd3dc2a1",
   "metadata": {},
   "outputs": [],
   "source": [
    "third_birthday_year = years_list[3]\n",
    "print(third_birthday_year)\n"
   ]
  }
 ],
 "metadata": {
  "kernelspec": {
   "display_name": "Python 3 (ipykernel)",
   "language": "python",
   "name": "python3"
  },
  "language_info": {
   "codemirror_mode": {
    "name": "ipython",
    "version": 3
   },
   "file_extension": ".py",
   "mimetype": "text/x-python",
   "name": "python",
   "nbconvert_exporter": "python",
   "pygments_lexer": "ipython3",
   "version": "3.12.4"
  }
 },
 "nbformat": 4,
 "nbformat_minor": 5
}
